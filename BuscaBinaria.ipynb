{
 "cells": [
  {
   "cell_type": "code",
   "execution_count": 1,
   "id": "12126c70-7071-4f32-9ffa-fa3b2c6716c5",
   "metadata": {},
   "outputs": [],
   "source": [
    "#Assinatura\n",
    "def busca_binaria (v, lista_Ord):\n",
    "\n",
    "    #Iniciar as variáveis    \n",
    "    esquerda = 0\n",
    "    direita = len(lista_Ord) - 1\n",
    "\n",
    "    #Loop de repetição\n",
    "    while esquerda <= direita:\n",
    "        \n",
    "        #Encontrar o meio\n",
    "        meio = (esquerda + direita) // 2\n",
    "\n",
    "        #Verificações\n",
    "        if v == lista_Ord[meio]:\n",
    "            return meio\n",
    "        elif v < lista_Ord[meio]:\n",
    "            direita = meio - 1\n",
    "        else:\n",
    "            esquerda = meio + 1\n",
    "                  \n",
    "    #Retornar -1 se não encontrado   \n",
    "    return - 1\n",
    "    \n"
   ]
  },
  {
   "cell_type": "code",
   "execution_count": 4,
   "id": "e3e7ccbd-da12-44ca-99f1-0be36c86f1ef",
   "metadata": {},
   "outputs": [
    {
     "name": "stdout",
     "output_type": "stream",
     "text": [
      "Digite um valor: 1\n",
      "O valor 1 existe na lista e está na posição 0!\n"
     ]
    }
   ],
   "source": [
    "l = [1,4,7,9,10,12,23,56,78,90]\n",
    "v = int(input(\"Digite um valor: \"))\n",
    "i = busca_binaria(v,l)\n",
    "if i== -1:\n",
    "    print(\"O valor não existe na lista!\")\n",
    "else:\n",
    "    print(f\"O valor {v} existe na lista e está na posição {i}!\")"
   ]
  },
  {
   "cell_type": "code",
   "execution_count": 9,
   "id": "c03d1c74",
   "metadata": {},
   "outputs": [],
   "source": [
    "class No:\n",
    "    def __init__(self, valor):\n",
    "        self.valor = valor\n",
    "        self.proximo = None\n",
    "\n",
    "class ListaEncadeada:\n",
    "    def __init__(self):\n",
    "        self.head = None\n",
    "\n",
    "    def adicionar(self, valor):\n",
    "        novo_no = No(valor)\n",
    "        if self.head is None:\n",
    "            self.head = novo_no\n",
    "        else:\n",
    "            atual = self.head\n",
    "            while atual.proximo:\n",
    "                atual = atual.proximo\n",
    "            atual.proximo = novo_no\n",
    "\n",
    "    def imprimir(self):\n",
    "        atual = self.head\n",
    "        while atual:\n",
    "            print(atual.valor)\n",
    "            atual = atual.proximo"
   ]
  },
  {
   "cell_type": "code",
   "execution_count": 10,
   "id": "7a985bbc",
   "metadata": {},
   "outputs": [
    {
     "name": "stdout",
     "output_type": "stream",
     "text": [
      "10\n",
      "20\n",
      "30\n"
     ]
    }
   ],
   "source": [
    "lista = ListaEncadeada()\n",
    "lista.adicionar(10)\n",
    "lista.adicionar(20)\n",
    "lista.adicionar(30)\n",
    "lista.imprimir()"
   ]
  },
  {
   "cell_type": "code",
   "execution_count": 23,
   "id": "ea266960",
   "metadata": {},
   "outputs": [],
   "source": [
    "class No:\n",
    "    def __init__(self, valor):\n",
    "        self.valor = valor\n",
    "        self.proximo = None\n",
    "\n",
    "class ListaEncadeada:\n",
    "    def __init__(self):\n",
    "        self.inicio = None\n",
    "\n",
    "    def inserir(self, valor):\n",
    "        novo_no = No(valor)\n",
    "        novo_no.proximo = self.inicio\n",
    "        self.inicio = novo_no\n",
    "\n",
    "    def imprimir(self):\n",
    "        no_atual = self.inicio\n",
    "        while no_atual:\n",
    "            print(no_atual.valor, end=' ')\n",
    "            no_atual = no_atual.proximo"
   ]
  },
  {
   "cell_type": "code",
   "execution_count": 24,
   "id": "25852602",
   "metadata": {},
   "outputs": [
    {
     "name": "stdout",
     "output_type": "stream",
     "text": [
      "30 20 10 "
     ]
    }
   ],
   "source": [
    "lista = ListaEncadeada()\n",
    "lista.inserir(10)\n",
    "lista.inserir(20)\n",
    "lista.inserir(30)\n",
    "lista.imprimir()"
   ]
  },
  {
   "cell_type": "code",
   "execution_count": null,
   "id": "bb46b3a9",
   "metadata": {},
   "outputs": [],
   "source": []
  }
 ],
 "metadata": {
  "kernelspec": {
   "display_name": "Python 3 (ipykernel)",
   "language": "python",
   "name": "python3"
  },
  "language_info": {
   "codemirror_mode": {
    "name": "ipython",
    "version": 3
   },
   "file_extension": ".py",
   "mimetype": "text/x-python",
   "name": "python",
   "nbconvert_exporter": "python",
   "pygments_lexer": "ipython3",
   "version": "3.9.7"
  }
 },
 "nbformat": 4,
 "nbformat_minor": 5
}
