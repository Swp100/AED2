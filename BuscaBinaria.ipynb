{
 "cells": [
  {
   "cell_type": "code",
   "execution_count": 1,
   "id": "12126c70-7071-4f32-9ffa-fa3b2c6716c5",
   "metadata": {},
   "outputs": [],
   "source": [
    "#Assinatura\n",
    "def busca_binaria (v, lista_Ord):\n",
    "\n",
    "    #Iniciar as variáveis    \n",
    "    esquerda = 0\n",
    "    direita = len(lista_Ord) - 1\n",
    "\n",
    "    #Loop de repetição\n",
    "    while esquerda <= direita:\n",
    "        \n",
    "        #Encontrar o meio\n",
    "        meio = (esquerda + direita) // 2\n",
    "\n",
    "        #Verificações\n",
    "        if v == lista_Ord[meio]:\n",
    "            return meio\n",
    "        elif v < lista_Ord[meio]:\n",
    "            direita = meio - 1\n",
    "        else:\n",
    "            esquerda = meio + 1\n",
    "                  \n",
    "    #Retornar -1 se não encontrado   \n",
    "    return - 1\n",
    "    \n"
   ]
  },
  {
   "cell_type": "code",
   "execution_count": 11,
   "id": "e3e7ccbd-da12-44ca-99f1-0be36c86f1ef",
   "metadata": {},
   "outputs": [
    {
     "name": "stdin",
     "output_type": "stream",
     "text": [
      "Digite um valor:  12\n"
     ]
    },
    {
     "name": "stdout",
     "output_type": "stream",
     "text": [
      "O valor 12 existe na lista e está na posição 5!\n"
     ]
    }
   ],
   "source": [
    "l = [1,4,7,9,10,12,23,56,78,90]\n",
    "v = int(input(\"Digite um valor: \"))\n",
    "i = busca_binaria(v,l)\n",
    "if i== -1:\n",
    "    print(\"O valor não existe na lista!\")\n",
    "else:\n",
    "    print(f\"O valor {v} existe na lista e está na posição {i}!\")"
   ]
  },
  {
   "cell_type": "code",
   "execution_count": null,
   "id": "532bc013-dd3b-4d2e-a2b8-b6d9945bf4b9",
   "metadata": {},
   "outputs": [],
   "source": []
  }
 ],
 "metadata": {
  "kernelspec": {
   "display_name": "Python [conda env:base] *",
   "language": "python",
   "name": "conda-base-py"
  },
  "language_info": {
   "codemirror_mode": {
    "name": "ipython",
    "version": 3
   },
   "file_extension": ".py",
   "mimetype": "text/x-python",
   "name": "python",
   "nbconvert_exporter": "python",
   "pygments_lexer": "ipython3",
   "version": "3.12.7"
  }
 },
 "nbformat": 4,
 "nbformat_minor": 5
}
